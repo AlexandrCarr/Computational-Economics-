{
 "cells": [
  {
   "cell_type": "code",
   "execution_count": 1,
   "id": "b8ad1b3f",
   "metadata": {
    "scrolled": true
   },
   "outputs": [],
   "source": [
    "import pandas as pd \n",
    "from IPython.display import display, Markdown\n",
    "import numpy as np\n",
    "import matplotlib.pyplot as plt\n",
    "import os\n",
    "import seaborn as sns\n",
    "import scipy.stats as stats\n",
    "sns.set_style(\"darkgrid\")\n",
    "\n",
    "data = pd.read_excel('HW3 Data.xls')\n",
    "df = pd.DataFrame(data)"
   ]
  },
  {
   "cell_type": "code",
   "execution_count": 2,
   "id": "265b2ce7",
   "metadata": {},
   "outputs": [],
   "source": [
    "pd.options.display.float_format = '{:,.2f}'.format\n",
    "pd.set_option('display.max_columns', None)  # or 1000\n",
    "pd.set_option('display.max_rows', None)  # or 1000\n",
    "pd.set_option('display.max_colwidth', None)  # or 199\n",
    "Percentiles = [0.05, 0.1, 0.25, 0.5, 0.75, 0.9, 0.95]"
   ]
  },
  {
   "cell_type": "markdown",
   "id": "df1cd6d4",
   "metadata": {},
   "source": [
    "### Exercise 1: Exploring the data (25 points)\n",
    "\n",
    "#### 1a) Are there duplicate households in the data? That is check if there are repeated observations in the unique household identifier variable. How many observations are there in the data?"
   ]
  },
  {
   "cell_type": "code",
   "execution_count": 3,
   "id": "2f93de66",
   "metadata": {},
   "outputs": [
    {
     "data": {
      "text/markdown": [
       "There are **0** duplicates in the data."
      ],
      "text/plain": [
       "<IPython.core.display.Markdown object>"
      ]
     },
     "metadata": {},
     "output_type": "display_data"
    },
    {
     "data": {
      "text/markdown": [
       "There are **2613** observations in the data."
      ],
      "text/plain": [
       "<IPython.core.display.Markdown object>"
      ]
     },
     "metadata": {},
     "output_type": "display_data"
    }
   ],
   "source": [
    "duplicate_values = df['hhid'].duplicated()\n",
    "\n",
    "# Counting the number of duplicates\n",
    "number_of_duplicates = duplicate_values.sum()\n",
    "markdown_str_duplicates = f\"There are **{number_of_duplicates}** duplicates in the data.\"\n",
    "display(Markdown(markdown_str_duplicates))\n",
    "\n",
    "# Counting the number of observations \n",
    "\n",
    "num_observations = len(df)\n",
    "markdown_str_obs = f\"There are **{num_observations}** observations in the data.\"\n",
    "display(Markdown(markdown_str_obs))\n"
   ]
  },
  {
   "cell_type": "markdown",
   "id": "b144edb4",
   "metadata": {},
   "source": [
    "#### 1b) Present some basic summary statistics for the following variables: head_gender, head _age, familysize, consumption, income, wealth. Comment your results in 2 lines. In particular, you might mention if there are missing observations or potential outliers for some of the variables."
   ]
  },
  {
   "cell_type": "code",
   "execution_count": 4,
   "id": "b17a9d11",
   "metadata": {
    "scrolled": false
   },
   "outputs": [
    {
     "data": {
      "text/html": [
       "<div>\n",
       "<style scoped>\n",
       "    .dataframe tbody tr th:only-of-type {\n",
       "        vertical-align: middle;\n",
       "    }\n",
       "\n",
       "    .dataframe tbody tr th {\n",
       "        vertical-align: top;\n",
       "    }\n",
       "\n",
       "    .dataframe thead th {\n",
       "        text-align: right;\n",
       "    }\n",
       "</style>\n",
       "<table border=\"1\" class=\"dataframe\">\n",
       "  <thead>\n",
       "    <tr style=\"text-align: right;\">\n",
       "      <th></th>\n",
       "      <th>Gender of Family Head</th>\n",
       "      <th>Age of Family Head</th>\n",
       "      <th>Size of Family</th>\n",
       "      <th>Consumption (2013 USD)</th>\n",
       "      <th>Income (2013 USD)</th>\n",
       "      <th>Wealth (2013 USD)</th>\n",
       "    </tr>\n",
       "  </thead>\n",
       "  <tbody>\n",
       "    <tr>\n",
       "      <th>Amount of Observations</th>\n",
       "      <td>2,597.00</td>\n",
       "      <td>2,597.00</td>\n",
       "      <td>2,597.00</td>\n",
       "      <td>2,613.00</td>\n",
       "      <td>2,613.00</td>\n",
       "      <td>2,613.00</td>\n",
       "    </tr>\n",
       "    <tr>\n",
       "      <th>Mean Values</th>\n",
       "      <td>1.31</td>\n",
       "      <td>46.07</td>\n",
       "      <td>7.48</td>\n",
       "      <td>1,803.79</td>\n",
       "      <td>1,860.08</td>\n",
       "      <td>4,912.70</td>\n",
       "    </tr>\n",
       "    <tr>\n",
       "      <th>Standard Deviation</th>\n",
       "      <td>0.46</td>\n",
       "      <td>15.07</td>\n",
       "      <td>3.71</td>\n",
       "      <td>1,308.74</td>\n",
       "      <td>2,607.52</td>\n",
       "      <td>8,359.89</td>\n",
       "    </tr>\n",
       "    <tr>\n",
       "      <th>Minimum Value</th>\n",
       "      <td>1.00</td>\n",
       "      <td>14.00</td>\n",
       "      <td>1.00</td>\n",
       "      <td>250.31</td>\n",
       "      <td>27.49</td>\n",
       "      <td>0.00</td>\n",
       "    </tr>\n",
       "    <tr>\n",
       "      <th>5th Percentile</th>\n",
       "      <td>1.00</td>\n",
       "      <td>25.00</td>\n",
       "      <td>2.00</td>\n",
       "      <td>491.21</td>\n",
       "      <td>139.81</td>\n",
       "      <td>68.94</td>\n",
       "    </tr>\n",
       "    <tr>\n",
       "      <th>10th Percentile</th>\n",
       "      <td>1.00</td>\n",
       "      <td>28.00</td>\n",
       "      <td>3.00</td>\n",
       "      <td>604.29</td>\n",
       "      <td>212.14</td>\n",
       "      <td>165.15</td>\n",
       "    </tr>\n",
       "    <tr>\n",
       "      <th>25th Percentile</th>\n",
       "      <td>1.00</td>\n",
       "      <td>34.00</td>\n",
       "      <td>5.00</td>\n",
       "      <td>918.32</td>\n",
       "      <td>471.20</td>\n",
       "      <td>720.02</td>\n",
       "    </tr>\n",
       "    <tr>\n",
       "      <th>50th Percentile</th>\n",
       "      <td>1.00</td>\n",
       "      <td>44.00</td>\n",
       "      <td>7.00</td>\n",
       "      <td>1,426.61</td>\n",
       "      <td>1,061.19</td>\n",
       "      <td>2,108.60</td>\n",
       "    </tr>\n",
       "    <tr>\n",
       "      <th>75th Percentile</th>\n",
       "      <td>2.00</td>\n",
       "      <td>56.00</td>\n",
       "      <td>9.00</td>\n",
       "      <td>2,296.86</td>\n",
       "      <td>2,234.80</td>\n",
       "      <td>5,221.94</td>\n",
       "    </tr>\n",
       "    <tr>\n",
       "      <th>90th Percentile</th>\n",
       "      <td>2.00</td>\n",
       "      <td>68.40</td>\n",
       "      <td>12.00</td>\n",
       "      <td>3,470.91</td>\n",
       "      <td>4,223.74</td>\n",
       "      <td>11,837.65</td>\n",
       "    </tr>\n",
       "    <tr>\n",
       "      <th>95th Percentile</th>\n",
       "      <td>2.00</td>\n",
       "      <td>74.00</td>\n",
       "      <td>14.00</td>\n",
       "      <td>4,396.64</td>\n",
       "      <td>6,230.44</td>\n",
       "      <td>20,423.55</td>\n",
       "    </tr>\n",
       "    <tr>\n",
       "      <th>Maximum Value</th>\n",
       "      <td>2.00</td>\n",
       "      <td>100.00</td>\n",
       "      <td>33.00</td>\n",
       "      <td>8,369.90</td>\n",
       "      <td>52,137.74</td>\n",
       "      <td>76,396.34</td>\n",
       "    </tr>\n",
       "  </tbody>\n",
       "</table>\n",
       "</div>"
      ],
      "text/plain": [
       "                        Gender of Family Head  Age of Family Head  \\\n",
       "Amount of Observations               2,597.00            2,597.00   \n",
       "Mean Values                              1.31               46.07   \n",
       "Standard Deviation                       0.46               15.07   \n",
       "Minimum Value                            1.00               14.00   \n",
       "5th Percentile                           1.00               25.00   \n",
       "10th Percentile                          1.00               28.00   \n",
       "25th Percentile                          1.00               34.00   \n",
       "50th Percentile                          1.00               44.00   \n",
       "75th Percentile                          2.00               56.00   \n",
       "90th Percentile                          2.00               68.40   \n",
       "95th Percentile                          2.00               74.00   \n",
       "Maximum Value                            2.00              100.00   \n",
       "\n",
       "                        Size of Family  Consumption (2013 USD)  \\\n",
       "Amount of Observations        2,597.00                2,613.00   \n",
       "Mean Values                       7.48                1,803.79   \n",
       "Standard Deviation                3.71                1,308.74   \n",
       "Minimum Value                     1.00                  250.31   \n",
       "5th Percentile                    2.00                  491.21   \n",
       "10th Percentile                   3.00                  604.29   \n",
       "25th Percentile                   5.00                  918.32   \n",
       "50th Percentile                   7.00                1,426.61   \n",
       "75th Percentile                   9.00                2,296.86   \n",
       "90th Percentile                  12.00                3,470.91   \n",
       "95th Percentile                  14.00                4,396.64   \n",
       "Maximum Value                    33.00                8,369.90   \n",
       "\n",
       "                        Income (2013 USD)  Wealth (2013 USD)  \n",
       "Amount of Observations           2,613.00           2,613.00  \n",
       "Mean Values                      1,860.08           4,912.70  \n",
       "Standard Deviation               2,607.52           8,359.89  \n",
       "Minimum Value                       27.49               0.00  \n",
       "5th Percentile                     139.81              68.94  \n",
       "10th Percentile                    212.14             165.15  \n",
       "25th Percentile                    471.20             720.02  \n",
       "50th Percentile                  1,061.19           2,108.60  \n",
       "75th Percentile                  2,234.80           5,221.94  \n",
       "90th Percentile                  4,223.74          11,837.65  \n",
       "95th Percentile                  6,230.44          20,423.55  \n",
       "Maximum Value                   52,137.74          76,396.34  "
      ]
     },
     "execution_count": 4,
     "metadata": {},
     "output_type": "execute_result"
    }
   ],
   "source": [
    "Percentiles = [0.05, 0.1, 0.25, 0.5, 0.75, 0.9, 0.95]\n",
    "sum_stats = df[['head_gender', 'head_age', 'familysize', 'consumption', 'income', 'wealth']].describe(percentiles=Percentiles)\n",
    "\n",
    "# Creating a dictionary to map the old index names to the new ones\n",
    "new_index_labels = {\n",
    "    'count': \"Amount of Observations\",\n",
    "    'mean': \"Mean Values\",\n",
    "    'std': \"Standard Deviation\",\n",
    "    'min': \"Minimum Value\",\n",
    "    '5%': \"5th Percentile\",\n",
    "    '10%': \"10th Percentile\",\n",
    "    '25%': \"25th Percentile\",\n",
    "    '50%': \"50th Percentile\",  # Median\n",
    "    '75%': \"75th Percentile\",\n",
    "    '90%': \"90th Percentile\",\n",
    "    '95%': \"95th Percentile\",\n",
    "    'max': \"Maximum Value\"\n",
    "}\n",
    "\n",
    "new_column_labels = {\n",
    "    'head_gender': \"Gender of Family Head\",\n",
    "    'head_age': 'Age of Family Head',\n",
    "    'familysize': 'Size of Family',\n",
    "    'consumption': 'Consumption (2013 USD)',\n",
    "    'income': 'Income (2013 USD)',\n",
    "    'wealth': 'Wealth (2013 USD)'\n",
    "}\n",
    "\n",
    "\n",
    "# Renaming the index using the dictionary\n",
    "sum_stats_renamed = sum_stats.rename(columns = new_column_labels, index=new_index_labels)\n",
    "\n",
    "\n",
    "sum_stats_renamed\n"
   ]
  },
  {
   "cell_type": "markdown",
   "id": "d9d1cddd",
   "metadata": {},
   "source": [
    "The mean household has 7-8 members, is headed by a 46 year old man (gender mean is 1.31 < 1.5), consumes almost all of its income of 1,860 USD, and has a wealth of 4,913 USD. The mean is skewed upwards by large outliers in income consumption, and wealth (e.g. the 95th percentile of consumption/income/wealth is approx. 3x/6x/10x the median). 16 observations are missing in the first three columns.\n",
    "\n"
   ]
  },
  {
   "cell_type": "markdown",
   "id": "f53877d7",
   "metadata": {},
   "source": [
    "#### 1c) Using the head_gender variable, create a dummy variable for household head being female (1=female, 0=male). What is the proportion of households where the head is female?\n"
   ]
  },
  {
   "cell_type": "code",
   "execution_count": 5,
   "id": "7b3a3bc9",
   "metadata": {},
   "outputs": [
    {
     "data": {
      "text/markdown": [
       "**31.42**% of households have female heads."
      ],
      "text/plain": [
       "<IPython.core.display.Markdown object>"
      ]
     },
     "metadata": {},
     "output_type": "display_data"
    }
   ],
   "source": [
    "df['Female'] = np.nan\n",
    "df.loc[df['head_gender'] == 2, 'Female'] = 1\n",
    "df.loc[df['head_gender'] == 1, 'Female'] = 0\n",
    "\n",
    "proportion_household_fem = (df['Female'].mean())*100\n",
    "proportion_household_fem_2sigfigs = f\"{proportion_household_fem:.2f}\"\n",
    "\n",
    "\n",
    "markdown_1c = f\"**{proportion_household_fem_2sigfigs}**% of households have female heads.\"\n",
    "display(Markdown(markdown_1c))\n"
   ]
  },
  {
   "cell_type": "markdown",
   "id": "ec4ce550",
   "metadata": {},
   "source": [
    "#### 1d) Using the groupby method, compute the average consumption, average household size, and average household head age for households where the head is male vs where the head is female. Do we observe noticeable differences across the two groups?"
   ]
  },
  {
   "cell_type": "code",
   "execution_count": 6,
   "id": "8d10f918",
   "metadata": {},
   "outputs": [
    {
     "data": {
      "text/html": [
       "<div>\n",
       "<style scoped>\n",
       "    .dataframe tbody tr th:only-of-type {\n",
       "        vertical-align: middle;\n",
       "    }\n",
       "\n",
       "    .dataframe tbody tr th {\n",
       "        vertical-align: top;\n",
       "    }\n",
       "\n",
       "    .dataframe thead th {\n",
       "        text-align: right;\n",
       "    }\n",
       "</style>\n",
       "<table border=\"1\" class=\"dataframe\">\n",
       "  <thead>\n",
       "    <tr style=\"text-align: right;\">\n",
       "      <th></th>\n",
       "      <th>Consumption (2013 USD)</th>\n",
       "      <th>Family Size</th>\n",
       "      <th>Age of Family Head</th>\n",
       "    </tr>\n",
       "  </thead>\n",
       "  <tbody>\n",
       "    <tr>\n",
       "      <th>Male Family Head</th>\n",
       "      <td>1,898.30</td>\n",
       "      <td>7.72</td>\n",
       "      <td>44.39</td>\n",
       "    </tr>\n",
       "    <tr>\n",
       "      <th>Female Family Head</th>\n",
       "      <td>1,593.26</td>\n",
       "      <td>6.96</td>\n",
       "      <td>49.73</td>\n",
       "    </tr>\n",
       "  </tbody>\n",
       "</table>\n",
       "</div>"
      ],
      "text/plain": [
       "                    Consumption (2013 USD)  Family Size  Age of Family Head\n",
       "Male Family Head                  1,898.30         7.72               44.39\n",
       "Female Family Head                1,593.26         6.96               49.73"
      ]
     },
     "execution_count": 6,
     "metadata": {},
     "output_type": "execute_result"
    }
   ],
   "source": [
    "vars_1d = df[['consumption', 'familysize', 'head_age', 'Female']].groupby(by='Female').mean()\n",
    "\n",
    "## Renaming Columns\n",
    "vars_1d = vars_1d.rename(columns={'familysize': 'Family Size','consumption': 'Consumption (2013 USD)',\n",
    "                                  'head_age':'Age of Family Head'})\n",
    "\n",
    "## Renaming Rows\n",
    "vars_1d.index = vars_1d.index.map({0: 'Male Family Head', 1: 'Female Family Head'})\n",
    "\n",
    "## Removing Indexing (the index 'Female' was unnecessary)\n",
    "vars_1d.index.name = None\n",
    "\n",
    "## Displaying the table\n",
    "vars_1d\n"
   ]
  },
  {
   "cell_type": "markdown",
   "id": "848fe49b",
   "metadata": {},
   "source": [
    "As for all summary statistics, it is difficult to comment on the causal relationships underlying these conditional averages without additional data. However:\n",
    "\n",
    "- Households that are headed by men consume 19% more. This could be because they earn more due to disrimination in the labor force or due to the lower educational attainment of women following educational discrimination. It could also be because they have on average about 1 more child.\n",
    "\n",
    "- The female households heads are about five years older, which could be because some of them are widows. "
   ]
  },
  {
   "cell_type": "markdown",
   "id": "91b82d1c",
   "metadata": {},
   "source": [
    "### Exercise 2. Inequality in Uganda (50 points).\n",
    "\n",
    "#### 2a) Create the variables log_c, log_inc, log_w that are the log of consumption, income, and wealth, respectively. Plot in the same graph the distribution of the log of consumption and the log of income. Do the distributions resemble some known distribution? Is inequality higher in consumption or in income?"
   ]
  },
  {
   "cell_type": "code",
   "execution_count": 7,
   "id": "2b855978",
   "metadata": {},
   "outputs": [
    {
     "name": "stderr",
     "output_type": "stream",
     "text": [
      "/Users/alexandrcarr/anaconda3/lib/python3.11/site-packages/pandas/core/arraylike.py:396: RuntimeWarning: divide by zero encountered in log\n",
      "  result = getattr(ufunc, method)(*inputs, **kwargs)\n"
     ]
    }
   ],
   "source": [
    "## Creating the log variables\n",
    "\n",
    "df['log_consumption'] = np.log(df['consumption'])\n",
    "\n",
    "df['log_income'] = np.log(df['income'])\n",
    "\n",
    "df['log_wealth'] = np.log(df['wealth'])\n",
    "\n",
    "# Removing infinities that occur when wealth = 0\n",
    "df.replace([np.inf, -np.inf], np.nan, inplace = True) \n"
   ]
  },
  {
   "cell_type": "code",
   "execution_count": 8,
   "id": "95f5fe8b",
   "metadata": {},
   "outputs": [
    {
     "name": "stderr",
     "output_type": "stream",
     "text": [
      "/var/folders/tb/tb7zlgfn0ngdmf43v0_x7vsc0000gn/T/ipykernel_51198/1411464042.py:7: FutureWarning: \n",
      "\n",
      "`shade` is now deprecated in favor of `fill`; setting `fill=False`.\n",
      "This will become an error in seaborn v0.14.0; please update your code.\n",
      "\n",
      "  log_distributions = sns.kdeplot(df[\"log_consumption\"], shade=False, label='Log Consumption', color = \"b\")\n",
      "/var/folders/tb/tb7zlgfn0ngdmf43v0_x7vsc0000gn/T/ipykernel_51198/1411464042.py:17: FutureWarning: \n",
      "\n",
      "`shade` is now deprecated in favor of `fill`; setting `fill=False`.\n",
      "This will become an error in seaborn v0.14.0; please update your code.\n",
      "\n",
      "  log_distributions = sns.kdeplot(df[\"log_income\"], shade=False, label='Log income', color = \"r\")\n"
     ]
    },
    {
     "data": {
      "image/png": "[encoded data removed]",
      "text/plain": [
       "<Figure size 640x480 with 1 Axes>"
      ]
     },
     "metadata": {},
     "output_type": "display_data"
    }
   ],
   "source": [
    "## Distribution plotting \n",
    "\n",
    "log_distributions, ax = plt.subplots() \n",
    "\n",
    "## Consumption Distribution\n",
    "\n",
    "log_distributions = sns.kdeplot(df[\"log_consumption\"], shade=False, label='Log Consumption', color = \"b\")\n",
    "\n",
    "kdeline = ax.lines[0]\n",
    "xs_cons = kdeline.get_xdata()\n",
    "ys_cons = kdeline.get_ydata()\n",
    "consumption_mean = df[\"log_consumption\"].mean()\n",
    "ax.vlines(consumption_mean, 0, np.interp(consumption_mean, xs_cons, ys_cons), color='blue', ls=':')\n",
    "\n",
    "## Income Distribution\n",
    "\n",
    "log_distributions = sns.kdeplot(df[\"log_income\"], shade=False, label='Log income', color = \"r\")\n",
    "\n",
    "kdeline = ax.lines[1]\n",
    "xs_income = kdeline.get_xdata()\n",
    "ys_income = kdeline.get_ydata()\n",
    "income_mean = df[\"log_income\"].mean()\n",
    "ax.vlines(income_mean, 0, np.interp(income_mean, xs_income, ys_income), color='r', ls=':')\n",
    "\n",
    "## Plotting\n",
    "\n",
    "plt.legend(fontsize='small')\n",
    "plt.xlabel('Log 2013 Dollars (Adjusted for Inflation)')\n",
    "plt.title(\"Kernel Density Estimate: Log(Consumption) and Log(Income) with Means\")\n",
    "plt.show()"
   ]
  },
  {
   "cell_type": "code",
   "execution_count": 9,
   "id": "ab95533c",
   "metadata": {},
   "outputs": [
    {
     "data": {
      "text/html": [
       "<div>\n",
       "<style scoped>\n",
       "    .dataframe tbody tr th:only-of-type {\n",
       "        vertical-align: middle;\n",
       "    }\n",
       "\n",
       "    .dataframe tbody tr th {\n",
       "        vertical-align: top;\n",
       "    }\n",
       "\n",
       "    .dataframe thead th {\n",
       "        text-align: right;\n",
       "    }\n",
       "</style>\n",
       "<table border=\"1\" class=\"dataframe\">\n",
       "  <thead>\n",
       "    <tr style=\"text-align: right;\">\n",
       "      <th></th>\n",
       "      <th>Income</th>\n",
       "      <th>Consumption</th>\n",
       "    </tr>\n",
       "  </thead>\n",
       "  <tbody>\n",
       "    <tr>\n",
       "      <th>Excess Kurtosis</th>\n",
       "      <td>-3.04</td>\n",
       "      <td>-3.32</td>\n",
       "    </tr>\n",
       "    <tr>\n",
       "      <th>Variance</th>\n",
       "      <td>1.34</td>\n",
       "      <td>0.45</td>\n",
       "    </tr>\n",
       "    <tr>\n",
       "      <th>Skew</th>\n",
       "      <td>-0.22</td>\n",
       "      <td>0.04</td>\n",
       "    </tr>\n",
       "  </tbody>\n",
       "</table>\n",
       "</div>"
      ],
      "text/plain": [
       "                 Income  Consumption\n",
       "Excess Kurtosis   -3.04        -3.32\n",
       "Variance           1.34         0.45\n",
       "Skew              -0.22         0.04"
      ]
     },
     "execution_count": 9,
     "metadata": {},
     "output_type": "execute_result"
    }
   ],
   "source": [
    "pd.DataFrame([[df[\"log_income\"].kurtosis() - 3, df[\"log_consumption\"].kurtosis() -3 ],[df[\"log_income\"].var(), df[\"log_consumption\"].var()],[df[\"log_income\"].skew(), df[\"log_consumption\"].skew()]], columns=[\"Income\",\"Consumption\"],index=[\"Excess Kurtosis\",'Variance','Skew'])\n"
   ]
  },
  {
   "cell_type": "markdown",
   "id": "3cbdd087",
   "metadata": {},
   "source": [
    "**Comments**:\n",
    "- One might be tempted to say the distributions are roughly normal, but the table above disproves this. The negative excess kurtosis implies both are platykurtic and the income distribution's -0.22 skew means it has a slight negative skew.\n",
    "\n",
    "- Inequality is larger in log income. Log consumption has a higher concentration around the mean and is almost symmetric unlike the broader distribution of income with a slight negative skew (-0.22). This means there are many people in the lower to lower-middle income brackets and a few high-income outliers.\n"
   ]
  },
  {
   "cell_type": "markdown",
   "id": "269a1852",
   "metadata": {},
   "source": [
    "#### 2b) A commonly used statistic to measure inequality is the variance of the logs. Compute the variance of the log of consumption, of the log of income, and of the log of wealth. How do these measures of inequality in Uganda compare to the same measures of inequality in the United States? Use table 3, column 5–PSID in De Magalhães, L., & Santaeulàlia-Llopis, R. (2018) for the comparison."
   ]
  },
  {
   "cell_type": "code",
   "execution_count": 10,
   "id": "796cd98b",
   "metadata": {},
   "outputs": [
    {
     "data": {
      "text/html": [
       "<div>\n",
       "<style scoped>\n",
       "    .dataframe tbody tr th:only-of-type {\n",
       "        vertical-align: middle;\n",
       "    }\n",
       "\n",
       "    .dataframe tbody tr th {\n",
       "        vertical-align: top;\n",
       "    }\n",
       "\n",
       "    .dataframe thead th {\n",
       "        text-align: right;\n",
       "    }\n",
       "</style>\n",
       "<table border=\"1\" class=\"dataframe\">\n",
       "  <thead>\n",
       "    <tr style=\"text-align: right;\">\n",
       "      <th></th>\n",
       "      <th>Log (Consumption) Variance</th>\n",
       "      <th>Log (Income) Variance</th>\n",
       "      <th>Log (Wealth) Variance</th>\n",
       "    </tr>\n",
       "  </thead>\n",
       "  <tbody>\n",
       "    <tr>\n",
       "      <th>Uganda</th>\n",
       "      <td>0.45</td>\n",
       "      <td>1.34</td>\n",
       "      <td>2.68</td>\n",
       "    </tr>\n",
       "    <tr>\n",
       "      <th>US</th>\n",
       "      <td>0.79</td>\n",
       "      <td>0.97</td>\n",
       "      <td>2.11</td>\n",
       "    </tr>\n",
       "  </tbody>\n",
       "</table>\n",
       "</div>"
      ],
      "text/plain": [
       "        Log (Consumption) Variance  Log (Income) Variance  \\\n",
       "Uganda                        0.45                   1.34   \n",
       "US                            0.79                   0.97   \n",
       "\n",
       "        Log (Wealth) Variance  \n",
       "Uganda                   2.68  \n",
       "US                       2.11  "
      ]
     },
     "execution_count": 10,
     "metadata": {},
     "output_type": "execute_result"
    }
   ],
   "source": [
    "log_variables = [\"log_consumption\", \"log_income\", \"log_wealth\"]\n",
    "\n",
    "US_variances = [0.79, 0.97, 2.11]\n",
    "\n",
    "Uganda_variances = []\n",
    "\n",
    "for var in log_variables:\n",
    "    Uganda_variances = np.append(Uganda_variances,df[f'{var}'].var())\n",
    "    \n",
    "variance_log_2b = pd.DataFrame([Uganda_variances,US_variances], columns=log_variables, index=[\"Uganda\",\"US\"])\n",
    "\n",
    "variance_log_2b = variance_log_2b.rename(columns = {\n",
    "    'log_consumption' : 'Log (Consumption) Variance',\n",
    "    'log_income': 'Log (Income) Variance',\n",
    "    'log_wealth': 'Log (Wealth) Variance'\n",
    "})\n",
    "\n",
    "variance_log_2b\n",
    "  "
   ]
  },
  {
   "cell_type": "markdown",
   "id": "a64ff1eb",
   "metadata": {},
   "source": [
    "Uganda has a higher variance in log (Income) and log (Wealth), but the United States has higher log (Consumption) variance. This suggests that there may be a greater disparity in consumption, but smaller in income and wealth in the US."
   ]
  },
  {
   "cell_type": "markdown",
   "id": "bff0624d",
   "metadata": {},
   "source": [
    "#### 2c) Measuring between rural and urban inequality in Uganda. Compute the average consumption, income, and wealth for rural and urban areas separately (groupby). Are the differences between the two areas large?\n"
   ]
  },
  {
   "cell_type": "code",
   "execution_count": 11,
   "id": "b3e2f1d9",
   "metadata": {},
   "outputs": [
    {
     "data": {
      "text/markdown": [
       "**Mean Values of Consumption, Income, and Wealth**"
      ],
      "text/plain": [
       "<IPython.core.display.Markdown object>"
      ]
     },
     "metadata": {},
     "output_type": "display_data"
    },
    {
     "data": {
      "text/html": [
       "<div>\n",
       "<style scoped>\n",
       "    .dataframe tbody tr th:only-of-type {\n",
       "        vertical-align: middle;\n",
       "    }\n",
       "\n",
       "    .dataframe tbody tr th {\n",
       "        vertical-align: top;\n",
       "    }\n",
       "\n",
       "    .dataframe thead th {\n",
       "        text-align: right;\n",
       "    }\n",
       "</style>\n",
       "<table border=\"1\" class=\"dataframe\">\n",
       "  <thead>\n",
       "    <tr style=\"text-align: right;\">\n",
       "      <th></th>\n",
       "      <th>Mean Consumption (2013 USD)</th>\n",
       "      <th>Mean Income (2013 USD)</th>\n",
       "      <th>Mean Wealth (2013 USD)</th>\n",
       "    </tr>\n",
       "  </thead>\n",
       "  <tbody>\n",
       "    <tr>\n",
       "      <th>Rural</th>\n",
       "      <td>1,629.45</td>\n",
       "      <td>1,713.96</td>\n",
       "      <td>4,521.00</td>\n",
       "    </tr>\n",
       "    <tr>\n",
       "      <th>Urban</th>\n",
       "      <td>2,544.22</td>\n",
       "      <td>2,480.62</td>\n",
       "      <td>6,576.26</td>\n",
       "    </tr>\n",
       "  </tbody>\n",
       "</table>\n",
       "</div>"
      ],
      "text/plain": [
       "       Mean Consumption (2013 USD)  Mean Income (2013 USD)  \\\n",
       "Rural                     1,629.45                1,713.96   \n",
       "Urban                     2,544.22                2,480.62   \n",
       "\n",
       "       Mean Wealth (2013 USD)  \n",
       "Rural                4,521.00  \n",
       "Urban                6,576.26  "
      ]
     },
     "execution_count": 11,
     "metadata": {},
     "output_type": "execute_result"
    }
   ],
   "source": [
    "vars_2c_mean = df[['consumption', 'income', 'wealth', 'urban']].groupby(by='urban').mean()\n",
    "\n",
    "vars_2c_mean = vars_2c_mean.rename(columns={'consumption': 'Mean Consumption (2013 USD)', \n",
    "                                  'income': 'Mean Income (2013 USD)',\n",
    "                                  'wealth':'Mean Wealth (2013 USD)'})\n",
    "\n",
    "vars_2c_mean.index = vars_2c_mean.index.map({0: 'Rural', 1: 'Urban'})\n",
    "\n",
    "vars_2c_mean.index.name = None\n",
    "\n",
    "title_mean = f'**Mean Values of Consumption, Income, and Wealth**'\n",
    "\n",
    "display(Markdown(title_mean))\n",
    "\n",
    "\n",
    "vars_2c_mean\n"
   ]
  },
  {
   "cell_type": "code",
   "execution_count": 12,
   "id": "88779c20",
   "metadata": {},
   "outputs": [
    {
     "data": {
      "text/markdown": [
       "**Percentage Difference between Urban and Rural Areas**"
      ],
      "text/plain": [
       "<IPython.core.display.Markdown object>"
      ]
     },
     "metadata": {},
     "output_type": "display_data"
    },
    {
     "data": {
      "text/html": [
       "<div>\n",
       "<style scoped>\n",
       "    .dataframe tbody tr th:only-of-type {\n",
       "        vertical-align: middle;\n",
       "    }\n",
       "\n",
       "    .dataframe tbody tr th {\n",
       "        vertical-align: top;\n",
       "    }\n",
       "\n",
       "    .dataframe thead th {\n",
       "        text-align: right;\n",
       "    }\n",
       "</style>\n",
       "<table border=\"1\" class=\"dataframe\">\n",
       "  <thead>\n",
       "    <tr style=\"text-align: right;\">\n",
       "      <th></th>\n",
       "      <th>Mean Consumption (2013 USD)</th>\n",
       "      <th>Mean Income (2013 USD)</th>\n",
       "      <th>Mean Wealth (2013 USD)</th>\n",
       "    </tr>\n",
       "  </thead>\n",
       "  <tbody>\n",
       "    <tr>\n",
       "      <th>Urban-Rural (%) Difference:</th>\n",
       "      <td>56.14</td>\n",
       "      <td>44.73</td>\n",
       "      <td>45.46</td>\n",
       "    </tr>\n",
       "  </tbody>\n",
       "</table>\n",
       "</div>"
      ],
      "text/plain": [
       "                             Mean Consumption (2013 USD)  \\\n",
       "Urban-Rural (%) Difference:                        56.14   \n",
       "\n",
       "                             Mean Income (2013 USD)  Mean Wealth (2013 USD)  \n",
       "Urban-Rural (%) Difference:                   44.73                   45.46  "
      ]
     },
     "execution_count": 12,
     "metadata": {},
     "output_type": "execute_result"
    }
   ],
   "source": [
    "## Percentage Difference \n",
    "\n",
    "cons_inc_wealth = ['Mean Consumption (2013 USD)', 'Mean Income (2013 USD)', 'Mean Wealth (2013 USD)']\n",
    "\n",
    "percentage_difference_urban_rural = {}\n",
    "\n",
    "for var in cons_inc_wealth:\n",
    "    percentage_difference_urban_rural[f\"{var}\"] = ((vars_2c_mean.loc[\"Urban\", f\"{var}\"] / vars_2c_mean.loc[\"Rural\", f\"{var}\"]) - 1) * 100\n",
    "    \n",
    "title_urb_rural_mean_diff = f'**Percentage Difference between Urban and Rural Areas**'\n",
    "\n",
    "display(Markdown(title_urb_rural_mean_diff))\n",
    "\n",
    "\n",
    "pd.DataFrame(percentage_difference_urban_rural, index=[\"Urban-Rural (%) Difference:\"])\n",
    "\n"
   ]
  },
  {
   "cell_type": "code",
   "execution_count": 13,
   "id": "0405311d",
   "metadata": {},
   "outputs": [
    {
     "data": {
      "text/markdown": [
       "**Median Values of Consumption, Income, and Wealth**"
      ],
      "text/plain": [
       "<IPython.core.display.Markdown object>"
      ]
     },
     "metadata": {},
     "output_type": "display_data"
    },
    {
     "data": {
      "text/html": [
       "<div>\n",
       "<style scoped>\n",
       "    .dataframe tbody tr th:only-of-type {\n",
       "        vertical-align: middle;\n",
       "    }\n",
       "\n",
       "    .dataframe tbody tr th {\n",
       "        vertical-align: top;\n",
       "    }\n",
       "\n",
       "    .dataframe thead th {\n",
       "        text-align: right;\n",
       "    }\n",
       "</style>\n",
       "<table border=\"1\" class=\"dataframe\">\n",
       "  <thead>\n",
       "    <tr style=\"text-align: right;\">\n",
       "      <th></th>\n",
       "      <th>Median Consumption (2013 USD)</th>\n",
       "      <th>Median Income (2013 USD)</th>\n",
       "      <th>Median Wealth (2013 USD)</th>\n",
       "    </tr>\n",
       "  </thead>\n",
       "  <tbody>\n",
       "    <tr>\n",
       "      <th>Rural</th>\n",
       "      <td>1,302.97</td>\n",
       "      <td>967.55</td>\n",
       "      <td>2,156.85</td>\n",
       "    </tr>\n",
       "    <tr>\n",
       "      <th>Urban</th>\n",
       "      <td>2,103.58</td>\n",
       "      <td>1,576.13</td>\n",
       "      <td>1,783.50</td>\n",
       "    </tr>\n",
       "  </tbody>\n",
       "</table>\n",
       "</div>"
      ],
      "text/plain": [
       "       Median Consumption (2013 USD)  Median Income (2013 USD)  \\\n",
       "Rural                       1,302.97                    967.55   \n",
       "Urban                       2,103.58                  1,576.13   \n",
       "\n",
       "       Median Wealth (2013 USD)  \n",
       "Rural                  2,156.85  \n",
       "Urban                  1,783.50  "
      ]
     },
     "execution_count": 13,
     "metadata": {},
     "output_type": "execute_result"
    }
   ],
   "source": [
    "vars_2c_median = df[['consumption', 'income', 'wealth', 'urban']].groupby(by = 'urban').median()\n",
    "\n",
    "\n",
    "vars_2c_median = vars_2c_median.rename(columns={'consumption': 'Median Consumption (2013 USD)', \n",
    "                                  'income': 'Median Income (2013 USD)',\n",
    "                                  'wealth':'Median Wealth (2013 USD)'})\n",
    "\n",
    "vars_2c_median.index = vars_2c_median.index.map({0: 'Rural', 1: 'Urban'})\n",
    "\n",
    "vars_2c_median.index.name = None\n",
    "\n",
    "title_median = f'**Median Values of Consumption, Income, and Wealth**'\n",
    "\n",
    "display(Markdown(title_median))\n",
    "\n",
    "vars_2c_median\n"
   ]
  },
  {
   "cell_type": "code",
   "execution_count": 14,
   "id": "de72de1f",
   "metadata": {},
   "outputs": [
    {
     "data": {
      "text/markdown": [
       "**Percentage Differences Between Mean and Median**"
      ],
      "text/plain": [
       "<IPython.core.display.Markdown object>"
      ]
     },
     "metadata": {},
     "output_type": "display_data"
    },
    {
     "data": {
      "text/html": [
       "<div>\n",
       "<style scoped>\n",
       "    .dataframe tbody tr th:only-of-type {\n",
       "        vertical-align: middle;\n",
       "    }\n",
       "\n",
       "    .dataframe tbody tr th {\n",
       "        vertical-align: top;\n",
       "    }\n",
       "\n",
       "    .dataframe thead th {\n",
       "        text-align: right;\n",
       "    }\n",
       "</style>\n",
       "<table border=\"1\" class=\"dataframe\">\n",
       "  <thead>\n",
       "    <tr style=\"text-align: right;\">\n",
       "      <th></th>\n",
       "      <th>Consumption (2013 USD)</th>\n",
       "      <th>Income (2013 USD)</th>\n",
       "      <th>Wealth (2013 USD)</th>\n",
       "    </tr>\n",
       "  </thead>\n",
       "  <tbody>\n",
       "    <tr>\n",
       "      <th>Rural</th>\n",
       "      <td>25.06</td>\n",
       "      <td>77.14</td>\n",
       "      <td>109.61</td>\n",
       "    </tr>\n",
       "    <tr>\n",
       "      <th>Urban</th>\n",
       "      <td>20.95</td>\n",
       "      <td>57.39</td>\n",
       "      <td>268.73</td>\n",
       "    </tr>\n",
       "  </tbody>\n",
       "</table>\n",
       "</div>"
      ],
      "text/plain": [
       "       Consumption (2013 USD)  Income (2013 USD)  Wealth (2013 USD)\n",
       "Rural                   25.06              77.14             109.61\n",
       "Urban                   20.95              57.39             268.73"
      ]
     },
     "execution_count": 14,
     "metadata": {},
     "output_type": "execute_result"
    }
   ],
   "source": [
    "cons_inc_wealth = ['Consumption (2013 USD)', 'Income (2013 USD)', 'Wealth (2013 USD)']\n",
    "\n",
    "\n",
    "Rural_mean_median_deviation = {}\n",
    "Urban_mean_median_deviation = {}\n",
    "\n",
    "\n",
    "for var in cons_inc_wealth:\n",
    "    Rural_mean_median_deviation[var] = ((vars_2c_mean.loc['Rural', f'Mean {var}'] / vars_2c_median.loc['Rural', f'Median {var}']) - 1) * 100\n",
    "    Urban_mean_median_deviation[var] = ((vars_2c_mean.loc['Urban', f'Mean {var}'] / vars_2c_median.loc['Urban', f'Median {var}']) - 1) * 100\n",
    "\n",
    "    \n",
    "title_mean_median_diff = f'**Percentage Differences Between Mean and Median**'\n",
    "\n",
    "display(Markdown(title_mean_median_diff))\n",
    "   \n",
    "    \n",
    "\n",
    "results_df = pd.DataFrame([Rural_mean_median_deviation, Urban_mean_median_deviation], index=['Rural', 'Urban'])\n",
    "results_df"
   ]
  },
  {
   "cell_type": "markdown",
   "id": "aeb1b080",
   "metadata": {},
   "source": [
    "**Average tendency:**\n",
    "- The second table (*Percentage Differences Between Urban and Rural Areas*) revelas that urban areas have 56% higher consumption, a 45% larger mean income, and 45% greater mean wealth. This likely reflects the greater educational and employment opoortunities in urban areas, the higher purchasing power and wages, and concentration of rich people.\n",
    "\n",
    "**Distribution:**\n",
    "\n",
    "- The final table (*Percentage Differences Between Mean and Median*) suggests there are large positive outliers in rural and urban areas that skew the mean upwards from the median. This is most pronounced for income in rural areas (77%) and wealth in urban areas (269%). \n",
    "\n",
    "  "
   ]
  },
  {
   "cell_type": "markdown",
   "id": "ac665e1d",
   "metadata": {},
   "source": [
    "#### 2d) Measuring within rural and urban inequality in Uganda. Compute the variance of the log of consumption, income, and wealth for rural and urban areas separately.\n"
   ]
  },
  {
   "cell_type": "code",
   "execution_count": 15,
   "id": "61e5a3df",
   "metadata": {},
   "outputs": [
    {
     "data": {
      "text/html": [
       "<div>\n",
       "<style scoped>\n",
       "    .dataframe tbody tr th:only-of-type {\n",
       "        vertical-align: middle;\n",
       "    }\n",
       "\n",
       "    .dataframe tbody tr th {\n",
       "        vertical-align: top;\n",
       "    }\n",
       "\n",
       "    .dataframe thead th {\n",
       "        text-align: right;\n",
       "    }\n",
       "</style>\n",
       "<table border=\"1\" class=\"dataframe\">\n",
       "  <thead>\n",
       "    <tr style=\"text-align: right;\">\n",
       "      <th></th>\n",
       "      <th>Log (Consumption) Variance</th>\n",
       "      <th>Log (Income) Variance</th>\n",
       "      <th>Log (Wealth) Variance</th>\n",
       "    </tr>\n",
       "  </thead>\n",
       "  <tbody>\n",
       "    <tr>\n",
       "      <th>Rural</th>\n",
       "      <td>0.41</td>\n",
       "      <td>1.34</td>\n",
       "      <td>2.39</td>\n",
       "    </tr>\n",
       "    <tr>\n",
       "      <th>Urban</th>\n",
       "      <td>0.44</td>\n",
       "      <td>1.11</td>\n",
       "      <td>3.92</td>\n",
       "    </tr>\n",
       "  </tbody>\n",
       "</table>\n",
       "</div>"
      ],
      "text/plain": [
       "       Log (Consumption) Variance  Log (Income) Variance  \\\n",
       "Rural                        0.41                   1.34   \n",
       "Urban                        0.44                   1.11   \n",
       "\n",
       "       Log (Wealth) Variance  \n",
       "Rural                   2.39  \n",
       "Urban                   3.92  "
      ]
     },
     "execution_count": 15,
     "metadata": {},
     "output_type": "execute_result"
    }
   ],
   "source": [
    "vars_2d = df[['log_consumption', 'log_income', 'log_wealth', 'urban']].groupby(by='urban').var()\n",
    "\n",
    "vars_2d = vars_2d.rename(columns={'log_consumption': 'Log (Consumption) Variance', 'log_income': 'Log (Income) Variance',\n",
    "                                  'log_wealth':'Log (Wealth) Variance'})\n",
    "\n",
    "vars_2d.index = vars_2d.index.map({0: 'Rural', 1: 'Urban'})\n",
    "\n",
    "vars_2d.index.name = None\n",
    "\n",
    "vars_2d\n"
   ]
  },
  {
   "cell_type": "markdown",
   "id": "e60112bc",
   "metadata": {},
   "source": [
    "Log (Consumption) and Log (Wealth) variance are higher for urban areas, whereas log (income) is higher for rural areas. However, log (Consumption) variance is verys similar. This is in line with the previous observations that there are substantial outliers in log (Income) in rural areas and much larger outliers in log (Wealth) in urban areas."
   ]
  },
  {
   "cell_type": "markdown",
   "id": "2d1115c3",
   "metadata": {},
   "source": [
    "#### 2e) Compute the Gini coefficient in consumption, in income, and in wealth in Uganda. Com- pare these values with the Gini coefficients in the United States—table 3, column 5–PSID in De Magalhães, L., & Santaeulàlia-Llopis, R. (2018)\n"
   ]
  },
  {
   "cell_type": "code",
   "execution_count": 16,
   "id": "6f2b330a",
   "metadata": {},
   "outputs": [],
   "source": [
    "def gini(array):\n",
    "    # from: https://github.com/oliviaguest/gini\n",
    "    #http://www.statsdirect.com/help/default.htm#nonparametric_methods/gini.htm \n",
    "    array = np.array(array)\n",
    "    array = array.flatten() \n",
    "    if np.amin(array) < 0:\n",
    "        array += np.amin(array) \n",
    "    array += 0.0000001 \n",
    "    array = np.sort(array) \n",
    "    index = np.arange(1,array.shape[0]+1) \n",
    "    n = array.shape[0]\n",
    "    return ((np.sum((2 * index - n  - 1) * array)) / (n * np.sum(array))) \n",
    "\n",
    "gini_coefficients = df[['consumption', 'income','wealth']].apply(gini)"
   ]
  },
  {
   "cell_type": "code",
   "execution_count": 17,
   "id": "565fd07f",
   "metadata": {},
   "outputs": [
    {
     "data": {
      "text/html": [
       "<div>\n",
       "<style scoped>\n",
       "    .dataframe tbody tr th:only-of-type {\n",
       "        vertical-align: middle;\n",
       "    }\n",
       "\n",
       "    .dataframe tbody tr th {\n",
       "        vertical-align: top;\n",
       "    }\n",
       "\n",
       "    .dataframe thead th {\n",
       "        text-align: right;\n",
       "    }\n",
       "</style>\n",
       "<table border=\"1\" class=\"dataframe\">\n",
       "  <thead>\n",
       "    <tr style=\"text-align: right;\">\n",
       "      <th></th>\n",
       "      <th>consumption</th>\n",
       "      <th>income</th>\n",
       "      <th>wealth</th>\n",
       "    </tr>\n",
       "  </thead>\n",
       "  <tbody>\n",
       "    <tr>\n",
       "      <th>Uganda</th>\n",
       "      <td>0.37</td>\n",
       "      <td>0.56</td>\n",
       "      <td>0.66</td>\n",
       "    </tr>\n",
       "    <tr>\n",
       "      <th>US</th>\n",
       "      <td>0.41</td>\n",
       "      <td>0.44</td>\n",
       "      <td>0.79</td>\n",
       "    </tr>\n",
       "  </tbody>\n",
       "</table>\n",
       "</div>"
      ],
      "text/plain": [
       "        consumption  income  wealth\n",
       "Uganda         0.37    0.56    0.66\n",
       "US             0.41    0.44    0.79"
      ]
     },
     "execution_count": 17,
     "metadata": {},
     "output_type": "execute_result"
    }
   ],
   "source": [
    "# Comparing gini in US and Uganda:\n",
    "\n",
    "con_inc_wlt = ['consumption','income','wealth']\n",
    "US_gini = [0.41,0.44,0.79]          #Magalhães, L., & Santaeulàlia-Llopis, R. (2018)\n",
    "UG_gini = list(gini_coefficients)\n",
    "\n",
    "pd.DataFrame([UG_gini,US_gini], columns=con_inc_wlt, index=[\"Uganda\",\"US\"])"
   ]
  },
  {
   "cell_type": "markdown",
   "id": "ce1bc90f",
   "metadata": {},
   "source": [
    "As the GINI coeff approaches 1, the country becomes more unequal. This means that the United States is more unequal in wealth and consumption. \n",
    "\n",
    "This is in contrast to the log of variance approach, which implied that Uganda had a higher income AND wealth inequality (yet similarly implied lower consumption inequality). The discrepancy in these two inequality metrics might be due to the fact that the Gini coefficient is more sensitive to the middle ranges of the distribution and the log of variance more sensitive to the lower ranges"
   ]
  },
  {
   "cell_type": "markdown",
   "id": "b501fa29",
   "metadata": {},
   "source": [
    "#### 2f) Compute the share of the wealth that the bottom 50 percent hold. Compute the share of the wealth that the top 10, 5, and 1 percent hold.\n"
   ]
  },
  {
   "cell_type": "code",
   "execution_count": 18,
   "id": "47fd82ff",
   "metadata": {},
   "outputs": [
    {
     "data": {
      "text/markdown": [
       "The wealth share of the bottom **1%** is **8.2%**"
      ],
      "text/plain": [
       "<IPython.core.display.Markdown object>"
      ]
     },
     "metadata": {},
     "output_type": "display_data"
    },
    {
     "data": {
      "text/markdown": [
       "The wealth share of the top **10%** is **51%**"
      ],
      "text/plain": [
       "<IPython.core.display.Markdown object>"
      ]
     },
     "metadata": {},
     "output_type": "display_data"
    },
    {
     "data": {
      "text/markdown": [
       "The wealth share of the top **5%** is **35%**"
      ],
      "text/plain": [
       "<IPython.core.display.Markdown object>"
      ]
     },
     "metadata": {},
     "output_type": "display_data"
    },
    {
     "data": {
      "text/markdown": [
       "The wealth share of the top **1%** is **12%**"
      ],
      "text/plain": [
       "<IPython.core.display.Markdown object>"
      ]
     },
     "metadata": {},
     "output_type": "display_data"
    }
   ],
   "source": [
    "from IPython.display import Markdown\n",
    "\n",
    "# Bottom 50%\n",
    "sorted_wealth = df['wealth'].sort_values(ignore_index=True)\n",
    "cumulative_sum = sorted_wealth.cumsum()\n",
    "index = int(0.5 * len(sorted_wealth))\n",
    "wealth_share = (cumulative_sum.loc[index] / cumulative_sum.iloc[-1]) * 100  # Convert to percentage\n",
    "markdown_bottom = f\"The wealth share of the bottom **{round(0.5100)}%** is **{wealth_share:.2g}%**\"\n",
    "display(Markdown(markdown_bottom))\n",
    "\n",
    "# Top 10%, 5%, 1%\n",
    "sorted_wealth = df['wealth'].sort_values(ignore_index=True, ascending=False)\n",
    "cumulative_sum = sorted_wealth.cumsum()\n",
    "wealth_share_list = [0.1, 0.05, 0.01]\n",
    "\n",
    "for share in wealth_share_list:\n",
    "    index = int(share * len(sorted_wealth))\n",
    "    wealth_share = (cumulative_sum.loc[index] / cumulative_sum.iloc[-1]) * 100  # Convert to percentage\n",
    "    markdown_top = f\"The wealth share of the top **{round(share * 100)}%** is **{wealth_share:.2g}%**\"\n",
    "    display(Markdown(markdown_top))\n"
   ]
  },
  {
   "cell_type": "markdown",
   "id": "760c5eb1",
   "metadata": {},
   "source": [
    "#### 2g) Although in the last years, there has been a big debate on inequality, the debate has mostly focused on rich countries. From your results of this exercise, discuss whether inequality is relatively large in Uganda with respect to rich countries.\n",
    "\n",
    "**Wealth and Consumption Inequality: US is more unequal**\n",
    "\n",
    "The United States' top 1% wealth share is about 26.5%, which is much higher than Uganda's 11.9%. Similarly, the top 10% in the US own 70% of the wealth, compared to 51% in Uganda. However, it must also be noted that it is much easier to collect data on the wealth of the top 10% of Americans than in Uganda. Revealing hidden or unmeasured wealth of the top 1% might substantially alter the results.\n",
    "\n",
    "If measured using the GINI coefficient and log variances, Uganda also has more equal consumption. There can be many explanations for this - cultural elements (e.g. individualism vs collectivism) or lower incomes and higher income inequality could mean that most of the income for many goes towards basic needs. \n",
    "\n",
    "\n",
    "**Income Inequality: Uganda is more unequal**\n",
    "\n",
    "On the other hand, Uganda had a less equal income distribution, as measured by the GINI coefficient and log variances. Other rich countries with stronger safety nets and redistributions programs (e.g. some EU members) tend to be more equal than the US. The mean GINI for income in the EU is 29.6 (Statista, 2022), implying EU countries much more equal than Uganda and the US in terms of income.\n",
    "\n",
    "\n",
    "Source: https://www.statista.com/statistics/1417444/inequality-in-europe-gini-coefficient-eu-eurozone/#:~:text=As%20of%202022%2C%20the%20Gini,blocs%20over%20the%20past%20decade.\n",
    "\n",
    "\n",
    "\n"
   ]
  },
  {
   "cell_type": "markdown",
   "id": "183ac1ad",
   "metadata": {},
   "source": [
    "#### 2h) The few previous studies on income inequality in Africa had to rely on consumption measures to estimate income inequality. See, for example, Alvaredo & Gasparini (2005). Debate on the advantages and disadvantages of using consumption measures to study income inequality.\n",
    "\n",
    "\n",
    "\n",
    "**Conclusion:**\n",
    "\n",
    "Consumption data reveal important insights on ineqaulity but should be used in conjunction with other metrics, like income or indebtedness. \n",
    "\n",
    "\n",
    "**Benefits:**\n",
    "\n",
    "1) Consumption can be considered a stronger proxy for well-being. By studying the nature of consumption, we can partially understand the distribution of well-being within families. For instance, if a majority of income is spent on goods supporting the family (e.g. food, shelter, and medication), we can understand ineqality on a family level and how that impacts the well-being of its members. This also then gives insight into another dimension of gender inequality (e.g. do families spend less on female than male children).\n",
    "\n",
    "\n",
    "2) Consumption does not suffer from avoidance issues lke taxation (e.g. taxes are avoided or underreported), implying consumption might be a more accurate / less biased metric. \n",
    "\n",
    "3) Consumption includes non-market activities (e.g. subsistence farming), which can be important for poorer communities.  \n",
    "\n",
    "\n",
    "**Drawbacks:**\n",
    "\n",
    "1) Consumption does not account for asset inequality, which is an essential transmission mechanism for generational inequality. \n",
    "\n",
    "2) Consumption data does not capture important issues like the indebtedness of the consumers. Combining income, consumption, and debt statistics would give a stronger perspective on the health of household balance sheets. \n",
    "\n",
    "3) There may be many issues in accurately measuring, collecting, and standardizing consumption data.\n",
    "\n",
    "\n",
    "\n",
    "\n"
   ]
  },
  {
   "cell_type": "markdown",
   "id": "65f25475",
   "metadata": {},
   "source": [
    "### Exercise 3: The lifecycle of male vs female head households in Uganda\n",
    "\n",
    "#### 3a) Plot the lifecycle of the log of consumption for households where the head is male and for households where the head is female."
   ]
  },
  {
   "cell_type": "code",
   "execution_count": 19,
   "id": "18d74a27",
   "metadata": {},
   "outputs": [],
   "source": [
    "## Truncating ages\n",
    "\n",
    "df = df[(df['head_age'] > 18) & (df['head_age'] < 80)]\n",
    "\n",
    "## Creating bins for ages \n",
    "\n",
    "bins = [18, 30, 40, 50, 60, 70, 80]\n",
    "labels = ['18 to 29', '30 to 39', '40 to 49', '50 to 59', '60 to 69', '70+' ]\n",
    "\n",
    "df['age_bins'] = pd.cut(df['head_age'], bins, labels=labels)"
   ]
  },
  {
   "cell_type": "code",
   "execution_count": 20,
   "id": "7a9cbc9e",
   "metadata": {},
   "outputs": [
    {
     "data": {
      "image/png": "[encoded data removed]",
      "text/plain": [
       "<Figure size 640x480 with 1 Axes>"
      ]
     },
     "metadata": {},
     "output_type": "display_data"
    }
   ],
   "source": [
    "## Polotting lifecycle \n",
    "\n",
    "fig, ax = plt.subplots()\n",
    "fig_lifecycle = sns.lineplot(x = 'age_bins', y = 'log_consumption', hue='Female', data=df, palette = 'coolwarm')\n",
    "\n",
    "legend_labels = ['Male', 'Female']  # Define your new labels here\n",
    "handles, _ = ax.get_legend_handles_labels()  # Get existing handles\n",
    "ax.legend(handles, legend_labels, title='Gender')\n",
    "\n",
    "plt.title('Consumption Lifecycle: Male vs Female Family Heads')\n",
    "plt.ylabel('Log of Consumption')\n",
    "plt.xlabel('Age')\n",
    "plt.show()"
   ]
  },
  {
   "cell_type": "markdown",
   "id": "781cd3f0",
   "metadata": {},
   "source": [
    "#### 3b) Redo the same plot for the log of income (i) and for the log of wealth (ii)."
   ]
  },
  {
   "cell_type": "markdown",
   "id": "741270b3",
   "metadata": {},
   "source": [
    "##### (i) Log of Income Lifecycle plot"
   ]
  },
  {
   "cell_type": "code",
   "execution_count": 21,
   "id": "e7077057",
   "metadata": {},
   "outputs": [
    {
     "data": {
      "image/png": "[encoded data removed]",
      "text/plain": [
       "<Figure size 640x480 with 1 Axes>"
      ]
     },
     "metadata": {},
     "output_type": "display_data"
    }
   ],
   "source": [
    "fig, ax = plt.subplots()\n",
    "fig_lifecycle = sns.lineplot(x = 'age_bins', y= 'log_income', hue='Female', data=df, palette = 'coolwarm')\n",
    "\n",
    "legend_labels = ['Male', 'Female']  # Define your new labels here\n",
    "handles, _ = ax.get_legend_handles_labels()  # Get existing handles\n",
    "ax.legend(handles, legend_labels, title='Gender')\n",
    "\n",
    "plt.title('Income Lifecycle: Male vs Female Family Heads')\n",
    "plt.ylabel('Log of Income')\n",
    "plt.xlabel('Age')\n",
    "plt.show()"
   ]
  },
  {
   "cell_type": "markdown",
   "id": "a3f79024",
   "metadata": {},
   "source": [
    "##### (ii) Log of Wealth Lifecycle plot"
   ]
  },
  {
   "cell_type": "code",
   "execution_count": 22,
   "id": "0d925c43",
   "metadata": {},
   "outputs": [
    {
     "data": {
      "image/png": "[encoded data removed]",
      "text/plain": [
       "<Figure size 640x480 with 1 Axes>"
      ]
     },
     "metadata": {},
     "output_type": "display_data"
    }
   ],
   "source": [
    "fig, ax = plt.subplots()\n",
    "fig_lifecycle = sns.lineplot(x = 'age_bins', y= 'log_wealth', hue='Female', data=df, palette = 'coolwarm')\n",
    "\n",
    "legend_labels = ['Male', 'Female']  # Define your new labels here\n",
    "handles, _ = ax.get_legend_handles_labels()  # Get existing handles\n",
    "ax.legend(handles, legend_labels, title='Gender')\n",
    "\n",
    "plt.title('Wealth Lifecycle: Male vs Female Family Heads')\n",
    "plt.ylabel('Log of Wealth')\n",
    "plt.xlabel('Age')\n",
    "plt.show()"
   ]
  },
  {
   "cell_type": "markdown",
   "id": "0f5e145a",
   "metadata": {},
   "source": [
    "#### 3c) What are the differences in the lifecycle of consumption, income, and wealth of households across the gender of the household heads? Comment your results.\n",
    "\n",
    "Male-led households tend to have consisistently higher income, wealth, and consumption across all\n",
    "age groups. However, consumption tends to be closer between the genders at early and\n",
    "later ages, with the biggest gaps occuring around age 40. Male-led households tend to have similar\n",
    "income to female-led ones at early ages, but then those diverge and don't converge later. Wealth tends\n",
    "to be similar with a gap at around age 40, convergence at age 50, and then another gap for later ages.\n",
    "\n",
    "This trend broadly makes sense as one would expect male-led households to earn more due to wage gaps\n",
    "and different forms of discrimination that women are likely to face prior to and in the labour market.\n",
    "The trend of higher equality between some variables early on with a divergence at later ages\n",
    "indicates that men and women might find it equally easy to enter the labour market,\n",
    "but men find it easier to climb the ladder."
   ]
  }
 ],
 "metadata": {
  "kernelspec": {
   "display_name": "Python 3 (ipykernel)",
   "language": "python",
   "name": "python3"
  },
  "language_info": {
   "codemirror_mode": {
    "name": "ipython",
    "version": 3
   },
   "file_extension": ".py",
   "mimetype": "text/x-python",
   "name": "python",
   "nbconvert_exporter": "python",
   "pygments_lexer": "ipython3",
   "version": "3.11.5"
  }
 },
 "nbformat": 4,
 "nbformat_minor": 5
}
